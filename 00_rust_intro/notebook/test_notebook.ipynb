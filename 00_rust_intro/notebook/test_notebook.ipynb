{
 "cells": [
  {
   "cell_type": "code",
   "execution_count": 4,
   "id": "17dc4698-1df6-4588-9c22-062f17331be8",
   "metadata": {
    "tags": []
   },
   "outputs": [],
   "source": [
    ":dep rand=\"0.8.5\""
   ]
  },
  {
   "cell_type": "code",
   "execution_count": 5,
   "id": "d8567f3e-d3e3-4538-8027-bf51fd5e2446",
   "metadata": {
    "tags": []
   },
   "outputs": [],
   "source": [
    "use rand::Rng;"
   ]
  },
  {
   "cell_type": "code",
   "execution_count": 10,
   "id": "ee5326c5-89ad-40d2-b0a1-48c0385532c7",
   "metadata": {
    "tags": []
   },
   "outputs": [
    {
     "data": {
      "text/plain": [
       "68"
      ]
     },
     "execution_count": 10,
     "metadata": {},
     "output_type": "execute_result"
    }
   ],
   "source": [
    "rand::thread_rng().gen_range(1..=100)"
   ]
  },
  {
   "cell_type": "code",
   "execution_count": 14,
   "id": "f0a835dc-02f5-47fb-a179-9b091b6bad02",
   "metadata": {
    "tags": []
   },
   "outputs": [],
   "source": [
    "let x =123;"
   ]
  },
  {
   "cell_type": "code",
   "execution_count": 17,
   "id": "d6a0b778-76dd-4183-8ba4-ba521ce8734d",
   "metadata": {
    "tags": []
   },
   "outputs": [
    {
     "data": {
      "text/plain": [
       "66"
      ]
     },
     "execution_count": 17,
     "metadata": {},
     "output_type": "execute_result"
    }
   ],
   "source": [
    "x"
   ]
  },
  {
   "cell_type": "code",
   "execution_count": 15,
   "id": "17b54675-c216-472c-9692-c3dcf56590f5",
   "metadata": {
    "tags": []
   },
   "outputs": [],
   "source": [
    "x=66;"
   ]
  },
  {
   "cell_type": "code",
   "execution_count": 18,
   "id": "edb62d7a-9bfd-43ea-b889-66e6da6935f1",
   "metadata": {
    "tags": []
   },
   "outputs": [],
   "source": [
    "let mut x =123;"
   ]
  },
  {
   "cell_type": "code",
   "execution_count": 19,
   "id": "f5cc9565-744a-43ae-932c-fb1a9152f74e",
   "metadata": {
    "tags": []
   },
   "outputs": [
    {
     "data": {
      "text/plain": [
       "123"
      ]
     },
     "execution_count": 19,
     "metadata": {},
     "output_type": "execute_result"
    }
   ],
   "source": [
    "x"
   ]
  },
  {
   "cell_type": "code",
   "execution_count": 20,
   "id": "9bac019a-099b-4747-bbbf-fbdc1fa0dfb2",
   "metadata": {
    "tags": []
   },
   "outputs": [
    {
     "data": {
      "text/plain": [
       "()"
      ]
     },
     "execution_count": 20,
     "metadata": {},
     "output_type": "execute_result"
    }
   ],
   "source": [
    "x=999"
   ]
  },
  {
   "cell_type": "code",
   "execution_count": 21,
   "id": "fa07f601-166a-4939-9919-0deee1a2a8c0",
   "metadata": {
    "tags": []
   },
   "outputs": [
    {
     "data": {
      "text/plain": [
       "999"
      ]
     },
     "execution_count": 21,
     "metadata": {},
     "output_type": "execute_result"
    }
   ],
   "source": [
    "x"
   ]
  },
  {
   "cell_type": "code",
   "execution_count": 25,
   "id": "c19809e1-ffd5-4e15-844f-197b8ec0fefd",
   "metadata": {
    "tags": []
   },
   "outputs": [
    {
     "data": {
      "text/plain": [
       "Greater"
      ]
     },
     "execution_count": 25,
     "metadata": {},
     "output_type": "execute_result"
    }
   ],
   "source": [
    "x.cmp(&2)"
   ]
  },
  {
   "cell_type": "code",
   "execution_count": null,
   "id": "5ba2b09e-b71e-4d31-b3ec-3bd343ab77ab",
   "metadata": {},
   "outputs": [],
   "source": []
  }
 ],
 "metadata": {
  "kernelspec": {
   "display_name": "Rust",
   "language": "rust",
   "name": "rust"
  },
  "language_info": {
   "codemirror_mode": "rust",
   "file_extension": ".rs",
   "mimetype": "text/rust",
   "name": "Rust",
   "pygment_lexer": "rust",
   "version": ""
  }
 },
 "nbformat": 4,
 "nbformat_minor": 5
}
